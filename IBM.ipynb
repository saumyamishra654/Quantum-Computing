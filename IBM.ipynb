{
 "cells": [
  {
   "cell_type": "code",
   "execution_count": 2,
   "metadata": {},
   "outputs": [
    {
     "ename": "NameError",
     "evalue": "name 'qc' is not defined",
     "output_type": "error",
     "traceback": [
      "\u001b[0;31m---------------------------------------------------------------------------\u001b[0m",
      "\u001b[0;31mNameError\u001b[0m                                 Traceback (most recent call last)",
      "Cell \u001b[0;32mIn[2], line 11\u001b[0m\n\u001b[1;32m      5\u001b[0m sampler \u001b[38;5;241m=\u001b[39m Sampler(session\u001b[38;5;241m=\u001b[39msession)\n\u001b[1;32m      7\u001b[0m \u001b[38;5;66;03m# make circuit\u001b[39;00m\n\u001b[1;32m      8\u001b[0m \u001b[38;5;66;03m# qc = \u001b[39;00m\n\u001b[1;32m      9\u001b[0m \n\u001b[1;32m     10\u001b[0m \u001b[38;5;66;03m# run\u001b[39;00m\n\u001b[0;32m---> 11\u001b[0m res \u001b[38;5;241m=\u001b[39m sampler\u001b[38;5;241m.\u001b[39mrun(\u001b[43mqc\u001b[49m)\u001b[38;5;241m.\u001b[39mresult()\n\u001b[1;32m     12\u001b[0m plot_histogram(res\u001b[38;5;241m.\u001b[39mget_counts(qc))\n",
      "\u001b[0;31mNameError\u001b[0m: name 'qc' is not defined"
     ]
    }
   ],
   "source": [
    "from qiskit_ibm_runtime import QiskitRuntimeService, Session, Sampler\n",
    " \n",
    "service = QiskitRuntimeService(token=\"b5512469df0131b77b35a7c20a8ee35083402ff16cc0ad68f529bb44c91daebe4546e5e53a4931d092f0338bf295d61553cafb7805900e22aeb3b59764add3c5\", channel=\"ibm_quantum\")\n",
    "session = Session(service=service, backend=\"ibmq_qasm_simulator\")\n",
    "sampler = Sampler(session=session)\n",
    "\n",
    "# make circuit\n",
    "# qc = \n",
    "\n",
    "# run\n",
    "res = sampler.run(qc).result()\n",
    "plot_histogram(res.get_counts(qc))\n"
   ]
  }
 ],
 "metadata": {
  "kernelspec": {
   "display_name": "base",
   "language": "python",
   "name": "python3"
  },
  "language_info": {
   "codemirror_mode": {
    "name": "ipython",
    "version": 3
   },
   "file_extension": ".py",
   "mimetype": "text/x-python",
   "name": "python",
   "nbconvert_exporter": "python",
   "pygments_lexer": "ipython3",
   "version": "3.12.2"
  }
 },
 "nbformat": 4,
 "nbformat_minor": 2
}
